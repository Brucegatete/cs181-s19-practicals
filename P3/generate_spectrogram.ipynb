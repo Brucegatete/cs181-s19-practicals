{
 "cells": [
  {
   "cell_type": "code",
   "execution_count": 266,
   "metadata": {
    "colab": {},
    "colab_type": "code",
    "id": "SfIETFsosAx2"
   },
   "outputs": [],
   "source": [
    "%matplotlib inline\n",
    "import re\n",
    "import numpy as np\n",
    "import pandas as pd\n",
    "import string\n",
    "import matplotlib.pyplot as plt\n",
    "import librosa\n",
    "import librosa.display\n",
    "import IPython.display as ipd\n",
    "from sklearn.linear_model import LogisticRegression\n",
    "from sklearn.ensemble import RandomForestClassifier\n",
    "from sklearn.cluster import KMeans\n",
    "from sklearn.decomposition import PCA"
   ]
  },
  {
   "cell_type": "code",
   "execution_count": 267,
   "metadata": {
    "colab": {},
    "colab_type": "code",
    "id": "NUum-kWLsAye"
   },
   "outputs": [],
   "source": [
    "### ignore warnings caused by librosa \n",
    "import warnings\n",
    "warnings.filterwarnings(\"ignore\")"
   ]
  },
  {
   "cell_type": "code",
   "execution_count": 268,
   "metadata": {
    "colab": {},
    "colab_type": "code",
    "id": "s2wEMuvgsAyi"
   },
   "outputs": [],
   "source": [
    "SAMPLE_RATE = 22050"
   ]
  },
  {
   "cell_type": "code",
   "execution_count": 269,
   "metadata": {
    "colab": {},
    "colab_type": "code",
    "id": "2eQlMf-jsAyn"
   },
   "outputs": [],
   "source": [
    "T = 4.0    # seconds\n",
    "t = np.linspace(0, T, int(T*SAMPLE_RATE), endpoint=False) # time variable\n",
    "freq = 440\n",
    "signal = np.sin(2*np.pi*freq*t)"
   ]
  },
  {
   "cell_type": "markdown",
   "metadata": {
    "colab_type": "text",
    "collapsed": true,
    "id": "xQ_uH51psAys"
   },
   "source": [
    "# Creating spectrograms\n",
    "Spectrograms provide a 2D feature space to analyze signals in the joint time-frequency domain.\n",
    "\n",
    "This code generates the spectrogram files for use with the CNN example. It makes files for non-noised data!"
   ]
  },
  {
   "cell_type": "code",
   "execution_count": 270,
   "metadata": {
    "colab": {},
    "colab_type": "code",
    "id": "J19SCY4ksAyu"
   },
   "outputs": [
    {
     "name": "stdout",
     "output_type": "stream",
     "text": [
      "N: 1\n",
      "Train shape (1, 88200)\n"
     ]
    }
   ],
   "source": [
    "# Just some re-shaping and dimension finding\n",
    "N = 1\n",
    "print(\"N:\",N)\n",
    "X_train = signal[np.newaxis,:]\n",
    "print(\"Train shape\",X_train.shape)\n",
    "N_train = X_train.shape[0]\n",
    "NUM_SAMPLES = X_train.shape[1]-1"
   ]
  },
  {
   "cell_type": "code",
   "execution_count": 271,
   "metadata": {
    "colab": {},
    "colab_type": "code",
    "id": "5InmJXw5sAy0"
   },
   "outputs": [],
   "source": [
    "# JUST SOME FOURIER TRANSFORM PARAMETERS\n",
    "BINS_OCTAVE = 12*2\n",
    "N_OCTAVES = 7\n",
    "NUM_BINS = BINS_OCTAVE * N_OCTAVES"
   ]
  },
  {
   "cell_type": "code",
   "execution_count": 272,
   "metadata": {
    "colab": {},
    "colab_type": "code",
    "id": "sfFPfWwtsAy4"
   },
   "outputs": [],
   "source": [
    "# Given a wav time series, makes a mel spectrogram\n",
    "# which is a short-time fourier transform with\n",
    "# frequencies on the mel (log) scale.\n",
    "def mel_spec(y):\n",
    "    Q = librosa.cqt(y=y, sr=SAMPLE_RATE, bins_per_octave=BINS_OCTAVE,n_bins=NUM_BINS)\n",
    "    Q_db = librosa.amplitude_to_db(Q,ref=np.max)\n",
    "    return Q_db"
   ]
  },
  {
   "cell_type": "code",
   "execution_count": 273,
   "metadata": {
    "colab": {},
    "colab_type": "code",
    "id": "EsgordknsAy8"
   },
   "outputs": [
    {
     "name": "stdout",
     "output_type": "stream",
     "text": [
      "(168, 173)\n"
     ]
    }
   ],
   "source": [
    "# This means that the spectrograms are 168 rows (frequencies)\n",
    "# By 173 columns (time frames)\n",
    "song = X_train[0]\n",
    "test_spec = mel_spec(song)\n",
    "print(test_spec.shape)\n",
    "FEATS = test_spec.shape[0]\n",
    "FRAMES = test_spec.shape[1]"
   ]
  },
  {
   "cell_type": "code",
   "execution_count": 274,
   "metadata": {
    "colab": {},
    "colab_type": "code",
    "id": "Lw54zBtCsAy_"
   },
   "outputs": [],
   "source": [
    "tmp_train = np.zeros((N_train,FEATS,FRAMES))\n",
    "for i in range(N_train):\n",
    "    tmp_train[i,:,:] = mel_spec(X_train[i])\n",
    "#np.save('Data/xtrain_spec.npy', tmp_train)"
   ]
  },
  {
   "cell_type": "code",
   "execution_count": 275,
   "metadata": {
    "colab": {},
    "colab_type": "code",
    "id": "Gttb7hR0sAzD"
   },
   "outputs": [
    {
     "data": {
      "text/plain": [
       "<matplotlib.axes._subplots.AxesSubplot at 0x1c1bcd7ba8>"
      ]
     },
     "execution_count": 275,
     "metadata": {},
     "output_type": "execute_result"
    },
    {
     "data": {
      "image/png": "[encoded data removed]",
      "text/plain": [
       "<Figure size 432x288 with 1 Axes>"
      ]
     },
     "metadata": {
      "needs_background": "light"
     },
     "output_type": "display_data"
    }
   ],
   "source": [
    "librosa.display.specshow(tmp_train[0], y_axis='hz')"
   ]
  },
  {
   "cell_type": "code",
   "execution_count": null,
   "metadata": {},
   "outputs": [],
   "source": []
  },
  {
   "cell_type": "code",
   "execution_count": 328,
   "metadata": {},
   "outputs": [
    {
     "name": "stdout",
     "output_type": "stream",
     "text": [
      "here\n",
      "(6374, 88200)\n",
      "(6374, 88200)\n",
      "(6374,)\n",
      "finished fitting\n",
      "making new X\n",
      "mel spec new Xtest\n",
      "made tests\n",
      "fitting ....\n",
      "finished predictions!\n",
      "Added predicitions to file!\n"
     ]
    }
   ],
   "source": [
    "print(\"here\")\n",
    "train = np.load(\"train.npy\")\n",
    "X_train = train[:,1:]\n",
    "print(X_train.shape)\n",
    "print(X_train.shape)\n",
    "y_train = train[:,0]\n",
    "print(y_train.shape)\n",
    "X_labeled = X_train[y_train != -1]\n",
    "y_labeled = y_train[y_train != -1]\n",
    "X_unlabeled = X_train[y_train == -1]\n",
    "y_unlabeled = y_train[y_train == -1]\n",
    "\n",
    "#test data \n",
    "test = np.load(\"test.npy\")\n",
    "X_test = test[:,1:]\n",
    "\n",
    "#reduce the dimensionality of the data using pca\n",
    "# pca = PCA(n_components=2000)\n",
    "# print(\"starting to fit\")\n",
    "# new_X_train = pca.fit_transform(X_train)\n",
    "print(\"finished fitting\")\n",
    "\n",
    "\n",
    "# #predict test\n",
    "# predictions = clf.predict(X_test)\n",
    "# print(predictions.shape)\n",
    "\n",
    "#models\n",
    "#Logistic Regression\n",
    "# logReg = LogisticRegression().fit(X_labeled, y_labeled)\n",
    "# print(\"finished fitting, now predicting....\")\n",
    "# predictions = logReg.predict(X_test)\n",
    "\n",
    "print(\"making new X\")\n",
    "for x in X_train:\n",
    "    x = mel_spec(x)\n",
    "\n",
    "print(\"mel spec new Xtest\")\n",
    "for x in X_test:\n",
    "    x = mel_spec(x)\n",
    "print(\"made tests\")\n",
    "\n",
    "print(\"fitting ....\")\n",
    "#Random Forest\n",
    "rf = RandomForestClassifier(n_estimators=7000)\n",
    "rf.fit(X_labeled, y_labeled)\n"
   ]
  },
  {
   "cell_type": "code",
   "execution_count": 329,
   "metadata": {},
   "outputs": [
    {
     "name": "stdout",
     "output_type": "stream",
     "text": [
      "finished predictions!\n",
      "Added predicitions to file!\n"
     ]
    }
   ],
   "source": [
    "predictions = rf.predict(X_test)\n",
    "\n",
    "print(\"finished predictions!\")\n",
    "# #add predictions in file\n",
    "with open(\"predictions.csv\", \"w\") as f:\n",
    "    f.write(\"Id,Prediction\\n\")\n",
    "    for i, u in enumerate(predictions):\n",
    "        f.write(str(i) + \",\" + str(int(u)) + \"\\n\")\n",
    "print(\"Added predicitions to file!\")\n"
   ]
  },
  {
   "cell_type": "code",
   "execution_count": 293,
   "metadata": {},
   "outputs": [
    {
     "name": "stdout",
     "output_type": "stream",
     "text": [
      "making new X\n",
      "new x made\n"
     ]
    }
   ],
   "source": [
    "print(\"making new X\")\n",
    "for x in new_X_train:\n",
    "    x = mel_spec(x)\n",
    "\n",
    "print(\"new x made\")\n",
    "# rf = RandomForestClassifier(n_estimators=5000)\n",
    "# rf.fit(X_labeled, y_labeled)"
   ]
  },
  {
   "cell_type": "code",
   "execution_count": 294,
   "metadata": {},
   "outputs": [
    {
     "name": "stdout",
     "output_type": "stream",
     "text": [
      "making new X test\n",
      "(951, 88200)\n",
      "mel spec new Xtest\n",
      "made tests\n"
     ]
    }
   ],
   "source": [
    "print(\"making new X test\")\n",
    "print(X_test.shape)\n",
    "\n",
    "new_X_test = pca.fit_transform(X_test)\n",
    "print(\"mel spec new Xtest\")\n",
    "for x in new_X_test:\n",
    "    x = mel_spec(x)\n",
    "print(\"made tests\")"
   ]
  },
  {
   "cell_type": "code",
   "execution_count": 307,
   "metadata": {},
   "outputs": [
    {
     "name": "stdout",
     "output_type": "stream",
     "text": [
      "fitting rf ...\n",
      "(6374, 88200)\n",
      "(6374, 88200)\n",
      "(6374,)\n",
      "finished fitting rf ...\n"
     ]
    }
   ],
   "source": [
    "#Use Random Forest on the transformed data\n",
    "rf = RandomForestClassifier(n_estimators= 10000)\n",
    "print(\"fitting rf ...\")\n",
    "print(X_train.shape)\n",
    "print(X_train.shape)\n",
    "y_train = train[:,0]\n",
    "print(y_train.shape)\n",
    "new_X_labeled = new_X_train[y_train != -1]\n",
    "y_labeled = y_train[y_train != -1]\n",
    "new_X_unlabeled = new_X_train[y_train == -1]\n",
    "y_unlabeled = y_train[y_train == -1]\n",
    "rf.fit(new_X_labeled, y_labeled)\n",
    "print(\"finished fitting rf ...\")\n"
   ]
  },
  {
   "cell_type": "code",
   "execution_count": 325,
   "metadata": {},
   "outputs": [
    {
     "name": "stdout",
     "output_type": "stream",
     "text": [
      "finished predictions!mjhasbdak\n",
      "Added predicitions to file!\n"
     ]
    }
   ],
   "source": [
    "#change x\n",
    "# print(\"mel spec new Xtest\")\n",
    "# for x in X_test:\n",
    "#     x = mel_spec(x)\n",
    "# print(\"made tests\")\n",
    "\n",
    "predictions = np.random.randint(10, size=951)\n",
    "\n",
    "print(\"finished predictions!mjhasbdak\")\n",
    "#add predictions in file\n",
    "with open(\"predictions.csv\", \"w\") as f:\n",
    "    f.write(\"Id,Prediction\\n\")\n",
    "    for i, u in enumerate(predictions):\n",
    "        f.write(str(i) + \",\" + str(int(u)) + \"\\n\")\n",
    "print(\"Added predicitions to file!\")"
   ]
  },
  {
   "cell_type": "code",
   "execution_count": 326,
   "metadata": {},
   "outputs": [
    {
     "name": "stdout",
     "output_type": "stream",
     "text": [
      "(951, 900)\n"
     ]
    }
   ],
   "source": [
    "print(new_X_test.shape)"
   ]
  },
  {
   "cell_type": "code",
   "execution_count": 316,
   "metadata": {},
   "outputs": [
    {
     "name": "stdout",
     "output_type": "stream",
     "text": [
      "[5. 9. 5. 2. 2. 5. 9. 5.]\n"
     ]
    }
   ],
   "source": [
    "print(rf.predict(new_X_test[:8]))\n"
   ]
  },
  {
   "cell_type": "code",
   "execution_count": null,
   "metadata": {},
   "outputs": [],
   "source": []
  }
 ],
 "metadata": {
  "colab": {
   "collapsed_sections": [],
   "name": "generate_spectrogram.ipynb",
   "provenance": [],
   "version": "0.3.2"
  },
  "kernelspec": {
   "display_name": "Python 3",
   "language": "python",
   "name": "python3"
  },
  "language_info": {
   "codemirror_mode": {
    "name": "ipython",
    "version": 3
   },
   "file_extension": ".py",
   "mimetype": "text/x-python",
   "name": "python",
   "nbconvert_exporter": "python",
   "pygments_lexer": "ipython3",
   "version": "3.7.1"
  }
 },
 "nbformat": 4,
 "nbformat_minor": 1
}
